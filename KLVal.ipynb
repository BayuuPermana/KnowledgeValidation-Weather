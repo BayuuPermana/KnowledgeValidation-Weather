{
 "cells": [
  {
   "cell_type": "markdown",
   "metadata": {},
   "source": [
    "Mari kita jelaskan cara kerja kode tersebut secara berurutan:\n",
    "\n",
    "1. **Inisialisasi Basis Pengetahuan:**\n",
    "   - `knowledge_base = KnowledgeBase()`: Membuat objek basis pengetahuan yang akan menyimpan aturan-aturan.\n",
    "\n",
    "2. **Aturan Awal dalam Sistem:**\n",
    "   - `initial_rule = Rule(condition=lambda x: x['temperature'] > 25, conclusion=\"Pakailah pakaian ringan.\")`: Membuat aturan awal yang menyatakan jika suhu lebih dari 25 derajat Celsius, maka rekomendasi adalah \"Pakailah pakaian ringan.\"\n",
    "   - `knowledge_base.add_rule(initial_rule)`: Menambahkan aturan awal ke basis pengetahuan.\n",
    "\n",
    "3. **Kasus Uji Awal:**\n",
    "   - `initial_test_data = {'temperature': 30, 'weather': 'cerah'}`: Membuat data uji awal dengan suhu 30 derajat Celsius dan cuaca cerah.\n",
    "\n",
    "4. **Wawancara dengan Ahli:**\n",
    "   - `expert_validator = ExpertValidator(knowledge_base, Expert())`: Membuat objek validator ahli dengan menggunakan basis pengetahuan dan objek ahli.\n",
    "   - `expert_validator.expert_interview()`: Melakukan wawancara dengan ahli dan menampilkan umpan balik ahli.\n",
    "\n",
    "5. **Validasi Berkelanjutan dengan Pembaruan Pengetahuan:**\n",
    "   - `updates = [...]`: Menyiapkan pembaruan pengetahuan dalam bentuk aturan dan data uji.\n",
    "   - `expert_validator.continuous_validation(updates)`: Melakukan validasi berkelanjutan dengan menambahkan aturan baru dan mengevaluasi hasil sistem setelah setiap pembaruan.\n",
    "\n",
    "6. **Kasus Uji untuk Evaluasi Kinerja:**\n",
    "   - `performance_evaluator = PerformanceEvaluator(knowledge_base)`: Membuat objek evaluator kinerja dengan menggunakan basis pengetahuan.\n",
    "   - `test_cases = [...]`: Menyiapkan kasus uji untuk evaluasi kinerja.\n",
    "\n",
    "7. **Evaluasi Kinerja:**\n",
    "   - `performance_evaluator.evaluate_performance(test_cases)`: Melakukan evaluasi kinerja sistem dengan menggunakan kasus uji dan menampilkan hasilnya.\n",
    "\n",
    "8. **Manajemen Konflik:**\n",
    "   - Dalam kelas `KnowledgeBase`, ada implementasi sederhana untuk manajemen konflik. Jika terdeteksi konflik antara aturan yang akan ditambahkan dengan aturan yang sudah ada, aturan baru tidak akan ditambahkan ke basis pengetahuan.\n",
    "\n",
    "Setiap langkah dalam kode tersebut dilakukan untuk menggambarkan berbagai aspek Knowledge Validation, seperti konsistensi pengetahuan, validasi terhadap pengetahuan ahli, uji kinerja sistem, dan manajemen konflik. Program ini menciptakan dan mengelola basis pengetahuan yang berkembang seiring waktu dan menguji sistem untuk memastikan konsistensi dan akurasi."
   ]
  },
  {
   "cell_type": "markdown",
   "metadata": {},
   "source": [
    "# Buat basis"
   ]
  },
  {
   "cell_type": "code",
   "execution_count": 22,
   "metadata": {},
   "outputs": [],
   "source": [
    "class KnowledgeBase:\n",
    "    def __init__(self):\n",
    "        self.rules = []\n",
    "\n",
    "    def add_rule(self, rule):\n",
    "        if not self.has_conflict(rule):\n",
    "            self.rules.append(rule)\n",
    "        else:\n",
    "            print(f\"Konflik Ditemukan. Aturan tidak ditambahkan: {rule.condition.__name__}\")\n",
    "\n",
    "    def has_conflict(self, new_rule):\n",
    "        for existing_rule in self.rules:\n",
    "            if self.detect_conflict(existing_rule, new_rule):\n",
    "                return True\n",
    "        return False\n",
    "\n",
    "    def detect_conflict(self, rule1, rule2):\n",
    "        return rule1.condition.__name__ == rule2.condition.__name__\n",
    "\n",
    "    def evaluate(self, input_data):\n",
    "        for rule in self.rules:\n",
    "            if rule.evaluate(input_data):\n",
    "                return rule.conclusion\n",
    "        return \"No conclusion\"\n",
    "\n"
   ]
  },
  {
   "cell_type": "code",
   "execution_count": 23,
   "metadata": {},
   "outputs": [],
   "source": [
    "class Rule:\n",
    "    def __init__(self, condition, conclusion):\n",
    "\n",
    "        self.condition = condition\n",
    "        self.conclusion = conclusion\n",
    "\n",
    "    def evaluate(self, input_data):\n",
    "        return self.condition(input_data)\n"
   ]
  },
  {
   "cell_type": "markdown",
   "metadata": {},
   "source": [
    "# Masukan dari Pakar(Expert)"
   ]
  },
  {
   "cell_type": "code",
   "execution_count": 24,
   "metadata": {},
   "outputs": [],
   "source": [
    "class Expert:\n",
    "    def provide_feedback(self):\n",
    "        return \"Pengetahuan ini mencerminkan dengan baik kondisi di lapangan.\""
   ]
  },
  {
   "cell_type": "markdown",
   "metadata": {},
   "source": [
    "# Evaluasi"
   ]
  },
  {
   "cell_type": "code",
   "execution_count": 25,
   "metadata": {},
   "outputs": [],
   "source": [
    "class PerformanceEvaluator:\n",
    "    def __init__(self, knowledge_base):\n",
    "        self.knowledge_base = knowledge_base\n",
    "\n",
    "    def evaluate_performance(self, test_cases):\n",
    "        correct_predictions = 0\n",
    "        total_cases = len(test_cases)\n",
    "\n",
    "        for test_case in test_cases:\n",
    "            input_data = test_case['input']\n",
    "            expected_output = test_case['output']\n",
    "\n",
    "            result = self.knowledge_base.evaluate(input_data)\n",
    "\n",
    "            if result == expected_output:\n",
    "                correct_predictions += 1\n",
    "\n",
    "            print(f\"Data Uji: {input_data}\")\n",
    "            print(f\"Hasil yang Diharapkan: {expected_output}\")\n",
    "            print(f\"Hasil Sistem: {result}\")\n",
    "            print(\"--------------------\")\n",
    "\n",
    "        accuracy = (correct_predictions / total_cases) * 100\n",
    "        print(f\"Akurasi Sistem: {accuracy}%\")"
   ]
  },
  {
   "cell_type": "code",
   "execution_count": 26,
   "metadata": {},
   "outputs": [],
   "source": [
    "class ExpertValidator:\n",
    "    def __init__(self, knowledge_base, expert):\n",
    "        self.knowledge_base = knowledge_base\n",
    "        self.expert = expert\n",
    "\n",
    "    def expert_interview(self):\n",
    "        expert_feedback = self.expert.provide_feedback()\n",
    "        print(\"Umpan Balik Ahli:\")\n",
    "        print(expert_feedback)\n",
    "        print(\"--------------------\")\n",
    "        print(\"  \")\n",
    "\n",
    "    def continuous_validation(self, updates):\n",
    "        for update in updates:\n",
    "            self.knowledge_base.add_rule(update['rule'])\n",
    "\n",
    "            result = self.knowledge_base.evaluate(update['test_data'])\n",
    "\n",
    "            print(f\"Data Uji setelah Pembaruan: {update['test_data']}\")\n",
    "            print(f\"Hasil Sistem setelah Pembaruan: {result}\")\n",
    "            print(\"--------------------\")"
   ]
  },
  {
   "cell_type": "code",
   "execution_count": 27,
   "metadata": {},
   "outputs": [
    {
     "name": "stdout",
     "output_type": "stream",
     "text": [
      "Umpan Balik Ahli:\n",
      "Pengetahuan ini mencerminkan dengan baik kondisi di lapangan.\n",
      "--------------------\n",
      "Konflik Ditemukan. Aturan tidak ditambahkan: <lambda>\n",
      "Data Uji setelah Pembaruan: {'temperature': 20, 'weather': 'hujan'}\n",
      "Hasil Sistem setelah Pembaruan: No conclusion\n",
      "--------------------\n",
      "Data Uji: {'temperature': 30, 'weather': 'cerah'}\n",
      "Hasil yang Diharapkan: Pakailah pakaian ringan.\n",
      "Hasil Sistem: Pakailah pakaian ringan.\n",
      "--------------------\n",
      "Data Uji: {'temperature': 10, 'weather': 'hujan'}\n",
      "Hasil yang Diharapkan: Bawa payung.\n",
      "Hasil Sistem: No conclusion\n",
      "--------------------\n",
      "Data Uji: {'temperature': 20, 'weather': 'cerah'}\n",
      "Hasil yang Diharapkan: Pakailah pakaian ringan.\n",
      "Hasil Sistem: No conclusion\n",
      "--------------------\n",
      "Data Uji: {'temperature': 5, 'weather': 'cerah'}\n",
      "Hasil yang Diharapkan: No conclusion\n",
      "Hasil Sistem: No conclusion\n",
      "--------------------\n",
      "Akurasi Sistem: 50.0%\n"
     ]
    }
   ],
   "source": [
    "# Inisialisasi basis pengetahuan\n",
    "knowledge_base = KnowledgeBase()\n",
    "\n",
    "# Aturan awal dalam sistem\n",
    "initial_rule = Rule(condition=lambda x: x['temperature'] > 25, conclusion=\"Pakailah pakaian ringan.\")\n",
    "knowledge_base.add_rule(initial_rule)\n",
    "\n",
    "# Kasus uji awal\n",
    "initial_test_data = {'temperature': 30, 'weather': 'cerah'}\n",
    "\n",
    "# Membuat objek ExpertValidator\n",
    "expert_validator = ExpertValidator(knowledge_base, Expert())\n",
    "\n",
    "# Melakukan wawancara dengan ahli\n",
    "expert_validator.expert_interview()\n",
    "\n",
    "# Melakukan validasi berkelanjutan dengan pembaruan pengetahuan\n",
    "updates = [\n",
    "    {'rule': Rule(condition=lambda x: x['weather'] == 'hujan', conclusion=\"Bawa payung.\"),\n",
    "     'test_data': {'temperature': 20, 'weather': 'hujan'}}\n",
    "]\n",
    "\n",
    "expert_validator.continuous_validation(updates)\n",
    "\n",
    "# Kasus uji untuk evaluasi kinerja\n",
    "performance_evaluator = PerformanceEvaluator(knowledge_base)\n",
    "test_cases = [\n",
    "    {'input': {'temperature': 30, 'weather': 'cerah'}, 'output': 'Pakailah pakaian ringan.'},\n",
    "    {'input': {'temperature': 10, 'weather': 'hujan'}, 'output': 'Bawa payung.'},\n",
    "    {'input': {'temperature': 20, 'weather': 'cerah'}, 'output': 'Pakailah pakaian ringan.'},\n",
    "    {'input': {'temperature': 5, 'weather': 'cerah'}, 'output': 'No conclusion'},  # Tidak ada aturan yang cocok\n",
    "]\n",
    "\n",
    "# Melakukan evaluasi kinerja\n",
    "performance_evaluator.evaluate_performance(test_cases)\n"
   ]
  }
 ],
 "metadata": {
  "kernelspec": {
   "display_name": "base",
   "language": "python",
   "name": "python3"
  },
  "language_info": {
   "codemirror_mode": {
    "name": "ipython",
    "version": 3
   },
   "file_extension": ".py",
   "mimetype": "text/x-python",
   "name": "python",
   "nbconvert_exporter": "python",
   "pygments_lexer": "ipython3",
   "version": "3.10.9"
  }
 },
 "nbformat": 4,
 "nbformat_minor": 2
}
