{
 "cells": [
  {
   "cell_type": "code",
   "execution_count": 1,
   "metadata": {},
   "outputs": [],
   "source": [
    "class AnimalKnowledgeBase:\n",
    "    def __init__(self):\n",
    "        self.knowledge_base = {\n",
    "            'Dog': {'Mammal', 'Domestic', 'Loyal'},\n",
    "            'Cat': {'Mammal', 'Domestic', 'Independent'},\n",
    "            'Eagle': {'Bird', 'Wild', 'Predator'},\n",
    "            # Add more animals and their attributes\n",
    "        }\n",
    "\n",
    "    def validate_knowledge(self):\n",
    "        # Rule 1: Ensure all animals have a defined set of attributes\n",
    "        for animal, attributes in self.knowledge_base.items():\n",
    "            if not attributes:\n",
    "                print(f\"Validation Error: No attributes defined for {animal}\")\n",
    "\n",
    "        # Rule 2: Check for duplicates\n",
    "        if len(self.knowledge_base) != len(set(self.knowledge_base.keys())):\n",
    "            print(\"Validation Error: Duplicate animals detected\")\n",
    "\n",
    "    def add_animal(self, animal, attributes):\n",
    "        self.knowledge_base[animal] = set(attributes)\n",
    "\n",
    "\n",
    "# Example Usage\n",
    "animal_system = AnimalKnowledgeBase()\n",
    "\n",
    "# Add animals to the knowledge base\n",
    "animal_system.add_animal('Tiger', ['Mammal', 'Wild', 'Carnivore'])\n",
    "animal_system.add_animal('Goldfish', ['Fish', 'Pet', 'Colorful'])\n",
    "\n",
    "# Validate the knowledge base\n",
    "animal_system.validate_knowledge()\n"
   ]
  }
 ],
 "metadata": {
  "kernelspec": {
   "display_name": "base",
   "language": "python",
   "name": "python3"
  },
  "language_info": {
   "codemirror_mode": {
    "name": "ipython",
    "version": 3
   },
   "file_extension": ".py",
   "mimetype": "text/x-python",
   "name": "python",
   "nbconvert_exporter": "python",
   "pygments_lexer": "ipython3",
   "version": "3.10.9"
  }
 },
 "nbformat": 4,
 "nbformat_minor": 2
}
