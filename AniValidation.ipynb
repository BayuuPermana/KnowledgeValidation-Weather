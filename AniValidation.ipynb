{
 "cells": [
  {
   "cell_type": "code",
   "execution_count": 18,
   "metadata": {},
   "outputs": [
    {
     "name": "stdout",
     "output_type": "stream",
     "text": [
      "Validation Error: Inconsistent attributes for Dog\n",
      "\n"
     ]
    }
   ],
   "source": [
    "class AnimalKnowledgeBase:\n",
    "    def __init__(self):\n",
    "        self.knowledge_base = {\n",
    "            'Dog': {'Mammal', 'Domestic', 'Loyal'},\n",
    "            'Cat': {'Mammal', 'Domestic', 'Independent'},\n",
    "            'Eagle': {'Bird', 'Wild', 'Predator'},\n",
    "            'Tiger': {'Mammal', 'Wild', 'Carnivore'},\n",
    "            'Goldfish': {'Fish', 'Pet', 'Colorful'},\n",
    "            # Add more animals and their attributes\n",
    "        }\n",
    "\n",
    "        self.descriptions = {\n",
    "            'Dog': 'A domesticated carnivore, loyal and often kept as a pet.',\n",
    "            'Cat': 'A small domesticated carnivore, often kept as a pet for companionship.',\n",
    "            'Eagle': 'A large bird of prey known for its keen eyesight and powerful beak.',\n",
    "            'Tiger': 'A large carnivorous mammal, known for its distinctive orange coat with black stripes.',\n",
    "            'Goldfish': 'A small freshwater fish often kept as an ornamental pet.',\n",
    "            # Add more animal descriptions\n",
    "        }\n",
    "\n",
    "    def validate_knowledge(self):\n",
    "        # Rule 1: Ensure all animals have a defined set of attributes\n",
    "        for animal, attributes in self.knowledge_base.items():\n",
    "            if not attributes:\n",
    "                print(f\"Validation Error: No attributes defined for {animal}\")\n",
    "\n",
    "        # Rule 2: Check for missing descriptions\n",
    "        for animal in self.knowledge_base.keys():\n",
    "            if animal not in self.descriptions or not self.descriptions[animal]:\n",
    "                print(f\"Validation Error: No description defined for {animal}\")\n",
    "\n",
    "        # Rule 3: Check for duplicates\n",
    "        if len(self.knowledge_base) != len(set(self.knowledge_base.keys())):\n",
    "            print(\"Validation Error: Duplicate animals detected\")\n",
    "\n",
    "        # Rule 4: Check for consistency of attributes among similar animals\n",
    "        similar_animals = {'Cat', 'Dog' }\n",
    "        for attribute in self.knowledge_base[similar_animals.pop()]:\n",
    "            if any(attribute not in self.knowledge_base[animal] for animal in similar_animals):\n",
    "                print(f\"Validation Error: Inconsistent attributes for {', '.join(similar_animals)}\")\n",
    "\n",
    "    def add_animal(self, animal, attributes, description):\n",
    "        self.knowledge_base[animal] = set(attributes)\n",
    "        self.descriptions[animal] = description\n",
    "\n",
    "\n",
    "# Example Usage\n",
    "animal_system = AnimalKnowledgeBase()\n",
    "\n",
    "# Add animals to the knowledge base\n",
    "animal_system.add_animal('Tiger', ['Mammal', 'Wild', 'Carnivore'],\n",
    "                         'A large carnivorous mammal, known for its distinctive orange coat with black stripes.')\n",
    "animal_system.add_animal('Goldfish', ['Fish', 'Pet', 'Colorful'],\n",
    "                         'A small freshwater fish often kept as an ornamental pet.')\n",
    "\n",
    "# Validate the knowledge base\n",
    "animal_system.validate_knowledge()\n",
    "\n",
    "print()"
   ]
  }
 ],
 "metadata": {
  "kernelspec": {
   "display_name": "base",
   "language": "python",
   "name": "python3"
  },
  "language_info": {
   "codemirror_mode": {
    "name": "ipython",
    "version": 3
   },
   "file_extension": ".py",
   "mimetype": "text/x-python",
   "name": "python",
   "nbconvert_exporter": "python",
   "pygments_lexer": "ipython3",
   "version": "3.10.9"
  }
 },
 "nbformat": 4,
 "nbformat_minor": 2
}
